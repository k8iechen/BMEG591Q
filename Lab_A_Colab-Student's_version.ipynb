{
 "cells": [
  {
   "cell_type": "markdown",
   "metadata": {
    "id": "g3YKPONuSiVj"
   },
   "source": [
    "# BMEG 400Q-591Q : Lab A\n"
   ]
  },
  {
   "cell_type": "markdown",
   "metadata": {
    "id": "EoPkml17UCQn"
   },
   "source": [
    "---\n",
    "### Mounting Google Drive"
   ]
  },
  {
   "cell_type": "code",
   "execution_count": null,
   "metadata": {
    "colab": {
     "base_uri": "https://localhost:8080/"
    },
    "id": "C3SoPviJUAga",
    "outputId": "b8b4ef16-699d-4ee6-8bcd-175086a553d4"
   },
   "outputs": [],
   "source": [
    "from google.colab import drive\n",
    "drive.mount('/content/drive')\n"
   ]
  },
  {
   "cell_type": "markdown",
   "metadata": {
    "id": "8VjT81NTBGPG"
   },
   "source": [
    "\n",
    "The dataset is available at the following link: [Dataset Link](https://drive.google.com/drive/folders/1OqOCUgEXKyadnhC10tbh8Jb1c6g0YgXW?usp=drive_link).\n",
    "you can create a shortcut in your Google Drive, then you can find it in '/content/drive'"
   ]
  },
  {
   "cell_type": "markdown",
   "metadata": {
    "id": "zTH3qHwUSiVn"
   },
   "source": [
    "----"
   ]
  },
  {
   "cell_type": "markdown",
   "metadata": {
    "id": "BEJB-VCDSiVn"
   },
   "source": [
    "## **Part A: Segmentation with X-ray and CT Scans**\n",
    "\n",
    "In this part of the assignment, you will explore the differences between using **X-ray** and **CT scans** for lung segmentation by applying **thresholding** technique.\n",
    "\n",
    "---\n",
    "##### Why is Lung Segmentation Important?\n",
    "\n",
    "In medical imaging, **segmentation** is a crucial preprocessing step that involves identifying and isolating regions of interest (ROIs) within images. In the context of **lung imaging**, segmentation plays a vital role for several reasons:\n",
    "\n",
    "1. **Disease Detection and Diagnosis**:  \n",
    "   - Helps detect abnormalities such as **tumors**, **nodules**, and **lung infections** (e.g., COVID-19 or pneumonia).\n",
    "   - Differentiates between healthy and affected lung regions, aiding in early diagnosis.\n",
    "\n",
    "2. **Treatment Planning and Monitoring**:  \n",
    "   - Lung segmentation provides accurate volume measurements, which are essential for **monitoring disease progression** or **treatment response** (e.g., tumor shrinkage during therapy).\n",
    "\n",
    "3. **Quantitative Analysis**:  \n",
    "   - Enables automatic calculation of lung metrics, such as **volume**, **air trapping**, and **lesion load**, which are crucial in respiratory diseases like **chronic obstructive pulmonary disease (COPD)**.\n",
    "\n",
    "4. **Radiotherapy and Surgery Planning**:  \n",
    "   - Lung segmentation ensures that only diseased areas are targeted, minimizing damage to healthy lung tissue.\n",
    "\n",
    "---"
   ]
  },
  {
   "cell_type": "markdown",
   "metadata": {
    "id": "QrQXaCGOSiVo"
   },
   "source": [
    "### **Segmenting the Lung from an X-ray scan**\n",
    "\n"
   ]
  },
  {
   "cell_type": "markdown",
   "metadata": {
    "id": "V118O8thSiVp"
   },
   "source": [
    "Importing Libraries"
   ]
  },
  {
   "cell_type": "code",
   "execution_count": null,
   "metadata": {
    "id": "f7zhfmrpSiVp"
   },
   "outputs": [],
   "source": [
    "import os\n",
    "import imageio\n",
    "import matplotlib.pyplot as plt\n",
    "import numpy as np"
   ]
  },
  {
   "cell_type": "markdown",
   "metadata": {
    "id": "wgK7AUJISiVr"
   },
   "source": [
    "Load and visualize an Image\n"
   ]
  },
  {
   "cell_type": "code",
   "execution_count": null,
   "metadata": {
    "colab": {
     "base_uri": "https://localhost:8080/",
     "height": 441
    },
    "id": "P9NlVbjASiVr",
    "outputId": "b65bd273-f04b-4a00-95ff-d3fc9378c93d"
   },
   "outputs": [],
   "source": [
    "xray_image = imageio.v3.imread(\"/content/drive/MyDrive/Data/Xray/00000011_001.png\")\n",
    "print(xray_image.shape)\n",
    "print(xray_image.dtype)\n",
    "\n",
    "\n",
    "plt.imshow(xray_image, cmap=\"gray\")\n",
    "plt.axis(\"off\")\n",
    "plt.show()\n"
   ]
  },
  {
   "cell_type": "markdown",
   "metadata": {
    "id": "mixI9nRlSiVs"
   },
   "source": [
    "**Write a Python code to segment an X-ray image using a threshold and visualize the resulting binary segmentation mask.**"
   ]
  },
  {
   "cell_type": "code",
   "execution_count": null,
   "metadata": {
    "id": "SSUNYVqSSiVs"
   },
   "outputs": [],
   "source": [
    "#TO DO"
   ]
  },
  {
   "cell_type": "markdown",
   "metadata": {
    "id": "lswbzOjmSiVs"
   },
   "source": [
    "---\n",
    "### Discussion\n",
    "Comment on the previous results <br> <br>\n",
    "<font color=\"#008000\">Answer :</font>\n"
   ]
  },
  {
   "cell_type": "markdown",
   "metadata": {
    "id": "0DX3uNXOSiVs"
   },
   "source": [
    "***"
   ]
  },
  {
   "cell_type": "markdown",
   "metadata": {
    "id": "cJovnMg2SiVs"
   },
   "source": [
    "### **Segmenting the Lung from a CT scan**\n"
   ]
  },
  {
   "cell_type": "markdown",
   "metadata": {
    "id": "jNieJBAeSiVt"
   },
   "source": [
    "Installing Libraries"
   ]
  },
  {
   "cell_type": "code",
   "execution_count": null,
   "metadata": {
    "colab": {
     "base_uri": "https://localhost:8080/"
    },
    "id": "fcCx4fISSiVt",
    "outputId": "d2599216-35ba-47ca-9c89-446946044891"
   },
   "outputs": [],
   "source": [
    "!pip install nilearn"
   ]
  },
  {
   "cell_type": "markdown",
   "metadata": {
    "id": "5wtVWlOOSiVt"
   },
   "source": [
    "Importing Libraries"
   ]
  },
  {
   "cell_type": "code",
   "execution_count": null,
   "metadata": {
    "id": "UPnSNHwGSiVt"
   },
   "outputs": [],
   "source": [
    "\n",
    "import matplotlib.pyplot as plt\n",
    "import nibabel as nib\n",
    "import numpy as np\n",
    "from PIL import Image, ImageDraw\n",
    "from scipy.spatial import ConvexHull\n",
    "from skimage import measure\n",
    "from matplotlib.animation import FuncAnimation\n",
    "import os\n",
    "import numpy as np\n",
    "import cv2\n",
    "import matplotlib.pyplot as plt\n",
    "import re\n",
    "from nilearn import plotting, image\n",
    "\n",
    "%matplotlib inline\n"
   ]
  },
  {
   "cell_type": "markdown",
   "metadata": {
    "id": "ex8FHzyCSiVt"
   },
   "source": [
    "Write a Python code to read nfti volumes using [Nibabel](https://nipy.org/nibabel/gettingstarted.html) Library, then load 'Data/CT/coronacases_org_001.nii'"
   ]
  },
  {
   "cell_type": "code",
   "execution_count": null,
   "metadata": {
    "id": "dyYXIkwXSiVt"
   },
   "outputs": [],
   "source": [
    "#TO DO\n"
   ]
  },
  {
   "cell_type": "markdown",
   "metadata": {
    "id": "ve1jqEDZEFBu"
   },
   "source": [
    "Write a Python code to visualize the 3D volume using [Nilearn](https://nilearn.github.io/stable/modules/generated/nilearn.plotting.view_img.html)"
   ]
  },
  {
   "cell_type": "code",
   "execution_count": null,
   "metadata": {
    "id": "bV-lQVoDSiVu"
   },
   "outputs": [],
   "source": [
    "# TO DO"
   ]
  },
  {
   "cell_type": "markdown",
   "metadata": {
    "id": "qFJvDbHPSiVu"
   },
   "source": [
    "Write a Python code to extract the [header](https://nipy.org/nibabel/nifti_images.html) file information"
   ]
  },
  {
   "cell_type": "code",
   "execution_count": null,
   "metadata": {
    "id": "-WeyzgFUSiVu"
   },
   "outputs": [],
   "source": [
    "#TO DO"
   ]
  },
  {
   "cell_type": "markdown",
   "metadata": {
    "id": "zccbpqJJSiVu"
   },
   "source": [
    "---"
   ]
  },
  {
   "cell_type": "markdown",
   "metadata": {
    "id": "AXoFNng4SiVu"
   },
   "source": [
    "<br> **Q1: What is the shape of the data in this NIfTI file? What does each dimension represent?** <br><br>\n",
    "<font color=\"#008000\">Answer:</font>  \n",
    "\n",
    "\n",
    "<br> **Q2: What do the pixel dimensions mean, and how are they represented in this NIfTI header?** <br><br>\n",
    "<font color=\"#008000\">Answer:</font>  \n",
    "\n",
    "\n",
    "\n",
    "<br> **Q3: What is the affine?** <br><br>\n",
    "<font color=\"#008000\">Answer:</font>  "
   ]
  },
  {
   "cell_type": "markdown",
   "metadata": {
    "id": "z7G_fZVrSiVu"
   },
   "source": [
    "---"
   ]
  },
  {
   "cell_type": "markdown",
   "metadata": {
    "id": "Ja14ILWgSiVu"
   },
   "source": [
    "Animation of 3D Volume Slices"
   ]
  },
  {
   "cell_type": "code",
   "execution_count": null,
   "metadata": {
    "id": "scQgLY8USiVv"
   },
   "outputs": [],
   "source": [
    "def plot_ct_animation(ct_numpy, interval=100):\n",
    "    \"\"\"Plots the CT scan slices as an animation.\"\"\"\n",
    "    num_slices = ct_numpy.shape[2]  # Z-axis slices\n",
    "\n",
    "    # Initialize the plot\n",
    "    fig, ax = plt.subplots()\n",
    "    img = ax.imshow(ct_numpy[:, :, 0], cmap='gray', vmin=np.min(ct_numpy), vmax=np.max(ct_numpy))\n",
    "    ax.axis('off')  # Hide axes for better visualization\n",
    "\n",
    "    def update(frame):\n",
    "        \"\"\"Updates the image to the current frame.\"\"\"\n",
    "        img.set_data(ct_numpy[:, :, frame])\n",
    "        ax.set_title(f\"Slice {frame + 1}/{num_slices}\")\n",
    "        return img,\n",
    "\n",
    "    # Create animation and loop back to start after last frame\n",
    "    ani = FuncAnimation(fig, update, frames=num_slices, interval=interval, blit=True, repeat=True)\n",
    "\n",
    "    # Display the animation in Jupyter Notebook\n",
    "    from IPython.display import HTML\n",
    "    plt.close(fig)  # Close the static figure to avoid double display\n",
    "    return HTML(ani.to_jshtml())\n"
   ]
  },
  {
   "cell_type": "markdown",
   "metadata": {
    "id": "R5GEd2FfSiVv"
   },
   "source": [
    "Rotate the image for easier visualization and generate the animated GIF"
   ]
  },
  {
   "cell_type": "code",
   "execution_count": null,
   "metadata": {
    "id": "iu0OPv9RSiVv"
   },
   "outputs": [],
   "source": [
    "#TO DO"
   ]
  },
  {
   "cell_type": "markdown",
   "metadata": {
    "id": "PDFZmImZSiVv"
   },
   "source": [
    "Load the Ground Truth Lung Mask located in 'Data/CT/coronacases_001.nii'"
   ]
  },
  {
   "cell_type": "code",
   "execution_count": null,
   "metadata": {
    "id": "afXOMAuESiVw"
   },
   "outputs": [],
   "source": [
    "#TO DO"
   ]
  },
  {
   "cell_type": "markdown",
   "metadata": {
    "id": "6oD_cTK7HHWU"
   },
   "source": [
    "Create 3D Animation for the Mask"
   ]
  },
  {
   "cell_type": "code",
   "execution_count": null,
   "metadata": {
    "id": "lALCQheaSiVw"
   },
   "outputs": [],
   "source": [
    "#TO DO"
   ]
  },
  {
   "cell_type": "markdown",
   "metadata": {
    "id": "y0DSu-CUSiVw"
   },
   "source": [
    "For Simplicity, we will slice the volume and work with a 2D Slice only, choose any slice "
   ]
  },
  {
   "cell_type": "code",
   "execution_count": null,
   "metadata": {
    "id": "z5h45vtgSiVx"
   },
   "outputs": [],
   "source": [
    "#TO DO"
   ]
  },
  {
   "cell_type": "markdown",
   "metadata": {
    "id": "5a6U-UoSSiVx"
   },
   "source": [
    "Overlay a segmentation mask on the original image"
   ]
  },
  {
   "cell_type": "code",
   "execution_count": null,
   "metadata": {
    "id": "ZKTepSwWSiVx"
   },
   "outputs": [],
   "source": [
    "def overlay_mask(ct_numpy, mask, color=(1, 0, 0), alpha=0.05):\n",
    "    \"\"\"\n",
    "    Overlay a binary mask on the CT scan image with a specified color.\n",
    "\n",
    "    Parameters:\n",
    "    - ct_numpy: 2D numpy array representing the grayscale CT scan.\n",
    "    - mask: 2D numpy array representing the binary mask (same shape as ct_numpy).\n",
    "    - color: Tuple of 3 floats (R, G, B) representing the color to use for the mask (default is red).\n",
    "    - alpha: float, transparency factor for the overlay (default 0.4).\n",
    "\n",
    "    Returns:\n",
    "    - overlay_image: 3D numpy array representing the image with the mask overlaid in the specified color.\n",
    "    \"\"\"\n",
    "    # Transpose the inputs\n",
    "\n",
    "\n",
    "\n",
    "    # Normalize CT image to [0, 1] range if it's not already\n",
    "    ct_normalized = (ct_numpy - ct_numpy.min()) / (ct_numpy.max() - ct_numpy.min())\n",
    "\n",
    "    # Create an RGB version of the CT scan\n",
    "    ct_rgb = np.stack([ct_normalized] * 3, axis=-1)  # Convert grayscale to RGB\n",
    "\n",
    "    # Create an RGB mask in the specified color\n",
    "    mask_rgb = np.zeros_like(ct_rgb)\n",
    "    for i in range(3):  # Apply the color to the mask\n",
    "        mask_rgb[:, :, i] = mask * color[i]\n",
    "\n",
    "    # Overlay the mask on the CT scan\n",
    "    overlay_image = (1 - alpha) * ct_rgb + alpha * mask_rgb\n",
    "    plt.figure()\n",
    "    plt.imshow(overlay_image, cmap=\"gray\")\n",
    "    plt.axis('off')\n"
   ]
  },
  {
   "cell_type": "code",
   "execution_count": null,
   "metadata": {
    "colab": {
     "base_uri": "https://localhost:8080/",
     "height": 406
    },
    "id": "LS1w1YWESiV3",
    "outputId": "4191e351-7f8f-4b97-a12c-7a2110188377"
   },
   "outputs": [],
   "source": [
    "#TO DO"
   ]
  },
  {
   "cell_type": "markdown",
   "metadata": {
    "id": "oixInOW-SiV4"
   },
   "source": [
    "---"
   ]
  },
  {
   "cell_type": "markdown",
   "metadata": {
    "id": "u4Cu9E_zSiV4"
   },
   "source": [
    "#### **Understanding CT Windowing and Hounsfield Units (HU)**\n",
    "\n",
    "In **Computed Tomography (CT)** imaging, different tissues are visualized based on their **Hounsfield Units (HU)**, which represent the tissue's density relative to water. This scale helps differentiate between various body tissues in CT images, with air, fat, water, soft tissues, and bones all having distinct HU values. However, to display this range effectively, we use a technique called **windowing**.\n",
    "\n",
    "---\n",
    "\n",
    " **What are Hounsfield Units (HU)?**\n",
    "\n",
    "Hounsfield Units are a quantitative scale for describing radiodensity:\n",
    "\n",
    "- **Air:** -1000 HU (black)  \n",
    "- **Lungs:** Around -500 HU  \n",
    "- **Fat:** Between -200 and -100 HU  \n",
    "- **Water:** 0 HU (reference point)  \n",
    "- **Soft Tissue:** 30 to 45 HU  \n",
    "- **Bone:** > 500 HU  \n",
    "- **Cortical Bone:** Around 1000 HU (white)\n",
    "\n",
    "The range from -1000 to 1000 HU represents the radiodensity spectrum that a CT scanner can detect.\n",
    "\n",
    "---\n",
    "\n",
    "#### **The Concept of CT Windowing**\n",
    "\n",
    "CT images have a large range of Hounsfield Unit values. However, a computer display is limited in the range of intensities it can show. If all the HU values are mapped directly to grayscale, subtle differences in tissues could be lost. To address this, **windowing** is applied to focus on a specific range of HU values that are most relevant for diagnosis.\n",
    "\n",
    "---\n",
    "\n",
    "#### **Window Width (W) and Window Level (L)**\n",
    "\n",
    "- **Window Width (W):**  \n",
    "  This is the range of Hounsfield Units that will be mapped to grayscale values.  \n",
    "  - A **narrow window width** (e.g., 50 HU) highlights subtle differences, such as soft tissues.\n",
    "  - A **wide window width** (e.g., 500 HU) includes a larger range, suitable for bone imaging.\n",
    "\n",
    "- **Window Level (L):**  \n",
    "  This is the midpoint of the window width, centered on a specific HU value.  \n",
    "  - **Setting the window level around 0 HU** focuses on water and soft tissues.\n",
    "  - **Higher window levels** (e.g., 300 HU) are better for bone or calcified tissues.\n",
    "  - **Lower window levels** (e.g., -500 HU) highlight air-filled structures like the lungs.\n",
    "\n",
    "---\n",
    "\n",
    "#### **Why Windowing is Important?**\n",
    "\n",
    "- **Soft Tissue Window** (W = 300, L = 50): Enhances visibility of organs like the liver or brain.\n",
    "- **Lung Window** (W = 1500, L = -500): Optimizes visualization of lung structures and air-filled spaces.\n",
    "- **Bone Window** (W = 2000, L = 500): Makes bones and calcified regions more distinct.\n",
    "\n",
    "---\n",
    "\n",
    "\n",
    "\n",
    "![image.png](data:image/png;base64,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)"
   ]
  },
  {
   "cell_type": "markdown",
   "metadata": {
    "id": "c4vOiA0HSiV5"
   },
   "source": [
    "Plotting Function"
   ]
  },
  {
   "cell_type": "code",
   "execution_count": null,
   "metadata": {
    "id": "6hOrGL31SiV6"
   },
   "outputs": [],
   "source": [
    "\n",
    "def show_slice(slice):\n",
    "    \"\"\"\n",
    "    Function to display an image slice\n",
    "    Input is a numpy 2D array\n",
    "    \"\"\"\n",
    "    plt.figure()\n",
    "    plt.imshow(slice, cmap=\"gray\")\n",
    "    plt.axis('off')\n",
    "\n",
    "\n",
    "\n"
   ]
  },
  {
   "cell_type": "markdown",
   "metadata": {
    "id": "5F28UxCVI-yv"
   },
   "source": [
    "Write a Python function to apply windowing on a CT slice.\n",
    "hint: you can use  [np.clip](https://numpy.org/doc/2.1/reference/generated/numpy.clip.html)"
   ]
  },
  {
   "cell_type": "code",
   "execution_count": null,
   "metadata": {
    "id": "2yOGaoYNI__S"
   },
   "outputs": [],
   "source": [
    "#TO DO\n"
   ]
  },
  {
   "cell_type": "markdown",
   "metadata": {
    "id": "T-xLzPbiSiV7"
   },
   "source": [
    "Visualize Original Image"
   ]
  },
  {
   "cell_type": "code",
   "execution_count": null,
   "metadata": {
    "id": "nRFgAoUUSiV8"
   },
   "outputs": [],
   "source": [
    "#TO DO\n"
   ]
  },
  {
   "cell_type": "markdown",
   "metadata": {
    "id": "QAaYchd7SiV8"
   },
   "source": [
    "Visualizing different windows of the Image"
   ]
  },
  {
   "cell_type": "code",
   "execution_count": null,
   "metadata": {
    "id": "FIpiVQLvSiV9"
   },
   "outputs": [],
   "source": [
    "#TO DO\n"
   ]
  },
  {
   "cell_type": "code",
   "execution_count": null,
   "metadata": {
    "id": "I5L7FRbgSiV-"
   },
   "outputs": [],
   "source": [
    "#TO DO\n"
   ]
  },
  {
   "cell_type": "markdown",
   "metadata": {
    "id": "AnkYj0aDLUX_"
   },
   "source": [
    "# Lung Segmentation from CT Images - Explanation of the Logic\n",
    "\n",
    "The lung segmentation task involves several stages, each building upon the previous to create a full pipeline for identifying and isolating lung regions from CT images. Below is a detailed explanation of the workflow:\n",
    "\n",
    "## 1. Intensity-Based Segmentation  \n",
    "- First, we focus on segmenting the CT image based on intensity values that correspond to the lung region.\n",
    "- The process involves clipping the image values to a specific range (`min_val` and `max_val`) to isolate regions of interest.\n",
    "- The clipped image is then converted into a binary image, where pixel values are either 0 or 1, based on their intensity.\n",
    "\n",
    "## 2. Contour Detection  \n",
    "- Using the binary image, we detect contours, which represent the boundaries of segmented regions.\n",
    "- Contours are essential for identifying specific structures, such as the lungs, based on their shape and size.\n",
    "\n",
    "## 3. Contour Filtering  \n",
    "- To ensure that only relevant contours are considered, we check if each contour is \"closed.\" A closed contour means the boundary forms a loop, which is a characteristic of the lung region.\n",
    "- This step also filters out small or irrelevant contours based on their volume, ensuring that only significant regions are retained.\n",
    "\n",
    "## 4. Lung Identification  \n",
    "- Among the filtered contours, we identify those corresponding to the lungs.\n",
    "- This involves excluding the body contour (the largest contour) and retaining the next largest two contours, which typically represent the left and right lungs.\n",
    "\n",
    "## 5. Visualization of Contours  \n",
    "- The identified lung contours are overlaid on the original CT image to visually confirm their accuracy.\n",
    "- This step helps in understanding how well the segmentation process has isolated the lungs.\n",
    "\n",
    "## 6. Binary Mask Creation  \n",
    "- Using the identified lung contours, we create a binary mask.\n",
    "- The mask is a black-and-white image where white regions represent the lungs, and black regions represent everything else.\n",
    "\n",
    "\n",
    "\n",
    "## 7. Integration into a Full Pipeline  \n",
    "- Finally, all the above steps are combined into a single workflow:\n",
    "  - Load a CT image.\n",
    "  - Perform intensity-based segmentation.\n",
    "  - Detect and filter contours.\n",
    "  - Identify lung regions.\n",
    "---\n",
    "\n"
   ]
  },
  {
   "cell_type": "markdown",
   "metadata": {
    "id": "SZ0HSJ5ISiV_"
   },
   "source": [
    "Write a Python function to perform Hounsfield unit (HU) window clipping on a CT image and then find the contours within the clipped image <br> <br>\n",
    "Hint: You can use [skimage.measure](https://scikit-image.org/docs/0.24.x/api/skimage.measure.html)"
   ]
  },
  {
   "cell_type": "code",
   "execution_count": null,
   "metadata": {
    "id": "yKvxt2OiJQeO"
   },
   "outputs": [],
   "source": [
    "#TO DO\n",
    "\n",
    "\n",
    "def intensity_seg():\n",
    "    \"\"\"\n",
    "    Segments the CT image by intensity values within a specified range.\n",
    "\n",
    "    The function clips the CT scan to the given min and max intensity values, then converts\n",
    "    the intensity values to binary. Any intensity value below the max is set to 1, and\n",
    "    values equal to the max are set to 0.\n",
    "\n",
    "    \"\"\"\n",
    "\n",
    "    return\n"
   ]
  },
  {
   "cell_type": "markdown",
   "metadata": {
    "id": "yWIcmY8HMaH1"
   },
   "source": [
    "Visualize the extracted contours"
   ]
  },
  {
   "cell_type": "code",
   "execution_count": null,
   "metadata": {
    "id": "4CXVH1IKMa4m"
   },
   "outputs": [],
   "source": [
    "def show_contour(image, contours):\n",
    "    \"\"\"\n",
    "    Displays the image with overlaid contours. .\n",
    "\n",
    "    Parameters:\n",
    "    ----------\n",
    "    image : numpy array\n",
    "        The image to display.\n",
    "\n",
    "    contours : list of numpy arrays\n",
    "        A list of contours to overlay on the image.\n",
    "\n",
    "\n",
    "    \"\"\"\n",
    "    fig, ax = plt.subplots()\n",
    "    ax.imshow(image, cmap=plt.cm.gray)\n",
    "    for contour in contours:\n",
    "        ax.plot(contour[:, 1], contour[:, 0], linewidth=1)\n",
    "\n",
    "    ax.set_xticks([])\n",
    "    ax.set_yticks([])"
   ]
  },
  {
   "cell_type": "code",
   "execution_count": null,
   "metadata": {},
   "outputs": [],
   "source": [
    "#TO DO"
   ]
  },
  {
   "cell_type": "markdown",
   "metadata": {
    "id": "VUzzJwsCMaKn"
   },
   "source": [
    "Filter the contours to extract the lungs only\n",
    "\n",
    "hint: you may need [ConvexHull](https://docs.scipy.org/doc/scipy/reference/generated/scipy.spatial.ConvexHull.html) "
   ]
  },
  {
   "cell_type": "code",
   "execution_count": null,
   "metadata": {
    "id": "S4jRFmKvMrh9"
   },
   "outputs": [],
   "source": [
    "#TO DO\n",
    "def contour_distance():\n",
    "    \"\"\"\n",
    "    Calculates the distance between the first and last points of a contour.\n",
    "\n",
    "    This helps in determining whether the contour is closed.\n",
    "\n",
    "    \"\"\"\n",
    "\n",
    "    return \n",
    "\n",
    "def set_is_closed():\n",
    "    \"\"\"\n",
    "    Checks if a contour is closed by calculating the distance between\n",
    "    the first and last points of the contour.\n",
    "\n",
    "    \"\"\"\n",
    "    return \n",
    "\n",
    "\n",
    "def find_lungs(contours):\n",
    "    \"\"\"\n",
    "    Identifies the contours that correspond to the lungs from a set of contours.\n",
    "\n",
    "    The function excludes open contours and small contours by checking if they\n",
    "    are closed and if their volume exceeds a threshold. The body contour, which\n",
    "    has the highest volume, is excluded. The remaining contours correspond to the lungs.\n",
    "\n",
    "\n",
    "    \"\"\"\n",
    "    return"
   ]
  },
  {
   "cell_type": "markdown",
   "metadata": {
    "id": "HONarRO7MYWH"
   },
   "source": [
    "Create a binary mask from the contours"
   ]
  },
  {
   "cell_type": "code",
   "execution_count": null,
   "metadata": {
    "id": "91FO44irSiV_"
   },
   "outputs": [],
   "source": [
    "\n",
    "def create_mask_from_polygon(image, contours):\n",
    "    \"\"\"\n",
    "    Creates a binary mask from polygon contours overlaid on an image.\n",
    "\n",
    "    The function converts a list of polygon contours into binary masks and merges them.\n",
    "    The mask is created with the same dimensions as the image.\n",
    "\n",
    "    Parameters:\n",
    "    ----------\n",
    "    image : numpy array\n",
    "        The image to use as reference for the mask dimensions.\n",
    "\n",
    "    contours : list of numpy arrays\n",
    "        A list of contours (polygon points) representing the mask.\n",
    "\n",
    "    Returns:\n",
    "    -------\n",
    "    numpy array\n",
    "        A binary mask with the same dimensions as the image.\n",
    "    \"\"\"\n",
    "    lung_mask = np.array(Image.new('L', image.shape, 0))\n",
    "    for contour in contours:\n",
    "        x = contour[:, 1]\n",
    "        y = contour[:, 0]\n",
    "        polygon_tuple = list(zip(x, y))\n",
    "        img = Image.new('L', image.shape, 0)\n",
    "        ImageDraw.Draw(img).polygon(polygon_tuple, outline=0, fill=1)\n",
    "        mask = np.array(img)\n",
    "        lung_mask += mask\n",
    "\n",
    "    lung_mask[lung_mask > 1] = 1  # Ensure the mask is binary\n",
    "    return lung_mask  # Transpose to match image dimensions\n",
    "\n",
    "\n",
    "\n",
    "\n",
    "\n",
    "\n",
    "\n",
    "\n",
    "\n",
    "\n",
    "\n"
   ]
  },
  {
   "cell_type": "markdown",
   "metadata": {
    "id": "GBEgFJGgSiWI"
   },
   "source": [
    "Extract the Lung Mask"
   ]
  },
  {
   "cell_type": "code",
   "execution_count": null,
   "metadata": {
    "id": "nr5jj3wxSiWI"
   },
   "outputs": [],
   "source": [
    "#TO DO\n"
   ]
  },
  {
   "cell_type": "markdown",
   "metadata": {
    "id": "DnhN-uV_SiWJ"
   },
   "source": [
    "Overlay Lungs mask"
   ]
  },
  {
   "cell_type": "code",
   "execution_count": null,
   "metadata": {
    "id": "q2XC1BWvSiWJ"
   },
   "outputs": [],
   "source": [
    "#TO DO\n"
   ]
  },
  {
   "cell_type": "markdown",
   "metadata": {
    "id": "sf00ywgESiWK"
   },
   "source": [
    "Use the following function for a qualitative assessment of the segmentation mask. It overlays the ground truth and predicted segmentation on the original CT image, highlighting areas of overlap to visually evaluate segmentation accuracy."
   ]
  },
  {
   "cell_type": "code",
   "execution_count": null,
   "metadata": {
    "id": "tyVIacs0SiWK"
   },
   "outputs": [],
   "source": [
    "import matplotlib.pyplot as plt\n",
    "import numpy as np\n",
    "\n",
    "from matplotlib.patches import Patch\n",
    "\n",
    "def binarize_mask(gt_mask):\n",
    "    \"\"\"Converts a multi-class mask (e.g., 0,1,2) to binary (0,1).\"\"\"\n",
    "    binary_mask = np.where(gt_mask > 0, 1, 0)  # All non-zero labels become 1\n",
    "    return binary_mask\n",
    "\n",
    "def plot_comparison(ct_slice, gt_mask, pred_mask, alpha=0.5):\n",
    "    \"\"\"Plots the CT scan with ground truth, prediction, and overlap overlay.\"\"\"\n",
    "    fig, ax = plt.subplots(figsize=(8, 8))\n",
    "\n",
    "    # Display the CT slice\n",
    "    ax.imshow(ct_slice, cmap='gray', vmin=np.min(ct_slice), vmax=np.max(ct_slice))\n",
    "\n",
    "    # Initialize RGBA overlays\n",
    "    overlay = np.zeros((*gt_mask.shape, 4))  # RGBA for the combined overlay\n",
    "\n",
    "    # Assign colors to the overlay\n",
    "    overlay[(gt_mask == 1) & (pred_mask == 0)] = [0, 1, 0, alpha]  # Green: GT only\n",
    "    overlay[(pred_mask == 1) & (gt_mask == 0)] = [1, 0, 0, alpha]  # Red: Prediction only\n",
    "    overlay[(gt_mask == 1) & (pred_mask == 1)] = [1, 0.5, 0, alpha]  # Orange: Overlap\n",
    "\n",
    "    # Overlay the masks\n",
    "    ax.imshow(overlay)\n",
    "\n",
    "    # Add title and remove axis\n",
    "    ax.set_title(\"Comparison: Ground Truth vs. Prediction (with Overlap)\")\n",
    "    ax.axis('off')\n",
    "\n",
    "    # Create a legend manually\n",
    "    legend_elements = [\n",
    "        Patch(facecolor='lime', edgecolor='black', label='Ground Truth'),\n",
    "        Patch(facecolor='red', edgecolor='black', label='Prediction'),\n",
    "        Patch(facecolor='orange', edgecolor='black', label='Overlap')\n",
    "    ]\n",
    "    ax.legend(handles=legend_elements, loc='upper right')\n",
    "\n",
    "    # Display the plot\n",
    "    plt.show()\n",
    "\n",
    "\n",
    "\n",
    "\n"
   ]
  },
  {
   "cell_type": "code",
   "execution_count": null,
   "metadata": {
    "id": "oSG8Qh2ANo8i"
   },
   "outputs": [],
   "source": [
    "#TO DO\n"
   ]
  },
  {
   "cell_type": "markdown",
   "metadata": {
    "id": "7Wf6CklrSiWK"
   },
   "source": [
    "#### **Intersection over Union (IoU) for Quantitative Mask Evaluation**\n",
    "is a widely used metric to evaluate the accuracy of object detection and segmentation models. It quantifies how well the predicted mask aligns with the ground truth mask by calculating the overlap between them.\n",
    "\n",
    "---\n",
    "\n",
    "##### **Formula for IoU**\n",
    "\n",
    "$$IoU =  \\frac{|Intersection(A, B)|}{|Union(A, B)|}$$\n",
    "\n",
    "\n",
    "Where:\n",
    "- **Intersection(A, B)**: The area where both the **ground truth** mask and the **predicted** mask have a value of 1.\n",
    "- **Union(A, B)**: The area where **either** the ground truth or predicted mask has a value of 1.\n",
    "\n",
    "---\n",
    "\n",
    "##### **How to Interpret IoU**\n",
    "\n",
    "- **IoU = 1.0**: Perfect overlap between the ground truth and predicted mask.\n",
    "- **IoU = 0.0**: No overlap between the ground truth and predicted mask.\n",
    "- **Higher IoU (closer to 1)**: Better performance of the prediction model.\n",
    "- **Lower IoU (closer to 0)**: Poor alignment between the prediction and ground truth.\n",
    "\n",
    "---\n",
    "\n",
    "\n",
    "\n",
    "\n",
    "\n"
   ]
  },
  {
   "cell_type": "markdown",
   "metadata": {
    "id": "86nJZI72Oi5k"
   },
   "source": [
    "Write a Python code to calculate the IoU between the ground truth and predicted mask\n",
    "\n",
    "Hint: you may need   [np.logical_and](https://numpy.org/doc/stable/reference/generated/numpy.logical_and.html) and  [np.logical_or](https://numpy.org/doc/stable/reference/generated/numpy.logical_or.html)"
   ]
  },
  {
   "cell_type": "code",
   "execution_count": null,
   "metadata": {
    "id": "kxEa5EYXSiWL"
   },
   "outputs": [],
   "source": [
    "#TO DO"
   ]
  },
  {
   "cell_type": "markdown",
   "metadata": {
    "id": "6mhmyDd-SiWL"
   },
   "source": [
    "\n",
    "\n",
    "#### **How to Calculate Lung Volume from Segmented Masks**\n",
    "\n",
    "Once the segmentation of the lungs is complete, the next step is to **calculate the total lung volume**. The calculation can be broken down into **slice-by-slice volume estimation** and then summed to get the **total lung volume**.\n",
    "\n",
    "\n",
    "### Volume of a Single Slice\n",
    "\n",
    "$$\n",
    "V_{\\text{lung in a slice}} = \\text{Number of lung voxels in the slice}  \\times V_{\\text{voxel}}\n",
    "$$\n",
    "where $V_{\\text{voxel}}$ is the volume of a single voxel in the CT scan.\n",
    "\n",
    "\n",
    "$$V_{\\text{voxel}} = \\Delta x \\times \\Delta z \\times \\Delta z$$\n",
    "\n",
    "\n",
    "**Where**\n",
    "\n",
    "1.  **Δx and Δy**: Voxel dimensions in the X and Y directions (pixel spacing)\n",
    "2.  **Δz**: Slice thickness.\n",
    "\n",
    "\n",
    "### Total Lung Volume\n",
    "\n",
    "Total lung volume is the sum of slice volumes:\n",
    "\n",
    "\n",
    "$$V_{\\text{total}} = \\sum_{i=1}^{N} (V_{\\text{lung in a slice}})$$\n",
    "\n",
    "\n",
    "**Where**\n",
    "1.  **V<sub>total</sub>**: Total lung volume.\n",
    "2.  **N**: Total number of slices.\n",
    "\n",
    "\n",
    "\n",
    "\n"
   ]
  },
  {
   "cell_type": "markdown",
   "metadata": {
    "id": "-tPqp8ijO0r4"
   },
   "source": [
    "Write a Python code to extract pixel dimensions from the header file. Use these dimensions to calculate the slice volume.\n",
    "\n",
    "\n",
    "\n",
    "\n",
    "\n",
    "\n"
   ]
  },
  {
   "cell_type": "code",
   "execution_count": null,
   "metadata": {
    "id": "R3Mi1HUVSiWM"
   },
   "outputs": [],
   "source": [
    "#TO DO"
   ]
  },
  {
   "cell_type": "markdown",
   "metadata": {
    "id": "VCzJBwXySiWO"
   },
   "source": [
    "---"
   ]
  },
  {
   "cell_type": "markdown",
   "metadata": {
    "id": "oa4Py808SiWO"
   },
   "source": [
    "### Vessels Segmentation\n",
    "\n",
    "\n",
    "Vessel segmentation is crucial in medical imaging for accurate analysis and diagnosis of vascular diseases.\n",
    "\n",
    "---\n"
   ]
  },
  {
   "cell_type": "markdown",
   "metadata": {
    "id": "LZ10TSphSiWR"
   },
   "source": [
    "Extend the segmentation process to include vessels by extracting the vessel mask and overlaying it on the original image."
   ]
  },
  {
   "cell_type": "code",
   "execution_count": null,
   "metadata": {
    "id": "dZfMmB7BSiWS"
   },
   "outputs": [],
   "source": [
    "#TO DO\n",
    "def create_vessel_mask():\n",
    "    \"\"\"\n",
    "    Create a vessel mask by isolating areas within the lung region and applying a density threshold.\n",
    "\n",
    "    The function multiplies the lung mask by the CT scan to isolate the lung area and then applies\n",
    "    a threshold to determine vessel locations based on HU values.\n",
    "\n",
    "\n",
    "    \"\"\"\n",
    "\n",
    "    return \n"
   ]
  },
  {
   "cell_type": "markdown",
   "metadata": {
    "id": "9Yps2QDmSiWU"
   },
   "source": [
    "Calculate Vessels Volume in a slice and its percentage from the lung"
   ]
  },
  {
   "cell_type": "code",
   "execution_count": null,
   "metadata": {
    "id": "3RTBAhd5SaK9"
   },
   "outputs": [],
   "source": [
    "#TO DO"
   ]
  },
  {
   "cell_type": "markdown",
   "metadata": {
    "id": "O9_gbjJaSiWZ"
   },
   "source": [
    "---"
   ]
  },
  {
   "cell_type": "markdown",
   "metadata": {
    "id": "G7_pt4mISiWZ"
   },
   "source": [
    "### Brain Imaging in CT Modality"
   ]
  },
  {
   "cell_type": "code",
   "execution_count": null,
   "metadata": {
    "id": "AZxp1SvwSiWa"
   },
   "outputs": [],
   "source": [
    "\n",
    "\n",
    "def natural_sort_key(file):\n",
    "    \"\"\"Extract numbers from filenames to ensure correct sorting.\"\"\"\n",
    "    return [int(text) if text.isdigit() else text.lower()\n",
    "            for text in re.split(r'(\\d+)', file)]\n",
    "\n",
    "def load_jpg_slices(directory):\n",
    "    \"\"\"\n",
    "    Load and stack jpg slices from a given directory into a 3D volume\n",
    "    with shape (height, width, num_slices).\n",
    "    \"\"\"\n",
    "    # Get a sorted list of all jpg files using natural sort\n",
    "    slices = sorted([f for f in os.listdir(directory) if f.endswith('.jpg')],\n",
    "                    key=natural_sort_key)\n",
    "\n",
    "    # Load the first image to determine dimensions\n",
    "    sample_img = cv2.imread(os.path.join(directory, slices[0]), cv2.IMREAD_GRAYSCALE)\n",
    "    height, width = sample_img.shape\n",
    "\n",
    "    # Initialize a 3D numpy array with shape (height, width, num_slices)\n",
    "    volume = np.zeros((height, width, len(slices)), dtype=np.uint8)\n",
    "\n",
    "    # Load each slice into the 3D volume along the third axis\n",
    "    for i, slice_file in enumerate(slices):\n",
    "        img = cv2.imread(os.path.join(directory, slice_file), cv2.IMREAD_GRAYSCALE)\n",
    "        volume[:, :, i] = img\n",
    "\n",
    "    return volume\n",
    "\n",
    "def visualize_middle_slice(volume):\n",
    "    \"\"\"Visualizes the middle slice along the third axis.\"\"\"\n",
    "    middle_index = volume.shape[2] // 2\n",
    "    plt.imshow(volume[:, :, middle_index], cmap='gray')\n",
    "    plt.title('Middle Slice')\n",
    "    plt.axis('off')\n",
    "    plt.show()\n",
    "\n"
   ]
  },
  {
   "cell_type": "code",
   "execution_count": null,
   "metadata": {
    "colab": {
     "base_uri": "https://localhost:8080/",
     "height": 445
    },
    "id": "8W4MvGIMgraZ",
    "outputId": "f48abe8d-b0e8-41d3-85a2-d734ac08f8fa"
   },
   "outputs": [],
   "source": [
    "directory = \"/content/drive/MyDrive/Data/CT/brain\"  # Replace with the path to your directory\n",
    "volume = load_jpg_slices(directory)\n",
    "\n",
    "print(f\"Volume shape: {volume.shape}\")\n",
    "\n",
    "# Visualize the middle slice\n",
    "visualize_middle_slice(volume)\n"
   ]
  },
  {
   "cell_type": "code",
   "execution_count": null,
   "metadata": {
    "colab": {
     "base_uri": "https://localhost:8080/",
     "height": 577
    },
    "id": "pTxzBCOrSiWb",
    "outputId": "6b96586f-f674-4b84-ad0f-c9c339452ed0"
   },
   "outputs": [],
   "source": [
    "plot_ct_animation(volume, interval=100)"
   ]
  },
  {
   "cell_type": "markdown",
   "metadata": {
    "id": "XTZjzLKBSiWc"
   },
   "source": [
    "\n",
    "#### Discussion\n",
    "\n",
    "\n",
    "\n",
    "<br> **Q1: What are the primary differences between X-ray and CT imaging?** <br><br>\n",
    "<font color=\"#008000\">Answer:</font>  \n",
    "\n",
    "\n",
    "\n",
    "\n",
    "<br> **Q2: What challenges are associated with vessel segmentation in X-ray imaging?** <br><br>\n",
    "<font color=\"#008000\">Answer:</font>  \n",
    "\n",
    "\n",
    "\n",
    "<br> **Q3: How does CT imaging overcome some of the limitations of X-ray imaging for vessel segmentation?** <br><br>\n",
    "<font color=\"#008000\">Answer:</font>  \n",
    "\n",
    "\n",
    "\n",
    "<br> **Q4: How do segmentation techniques differ between X-ray and CT imaging?** <br><br>\n",
    "<font color=\"#008000\">Answer:</font>  \n",
    "\n",
    "\n",
    "<br> **Q5: What are the limitations of this segmentation technique?** <br><br>\n",
    "<font color=\"#008000\">Answer:</font>  \n",
    "\n",
    "\n",
    "<br> **Q6: What are the limitations of CT Imaging Modality?** <br><br>\n",
    "<font color=\"#008000\">Answer:</font>  "
   ]
  },
  {
   "cell_type": "markdown",
   "metadata": {
    "id": "rS07ImfiSiWc"
   },
   "source": [
    "---"
   ]
  },
  {
   "cell_type": "markdown",
   "metadata": {
    "id": "6ZgJeNvCSiWd"
   },
   "source": [
    "### **Part B: MRI Imaging and Reconstruction from K-space**\n",
    "\n",
    "##### Introduction: MRI Imaging and K-space\n",
    "Magnetic Resonance Imaging (MRI) is a powerful technique for capturing detailed anatomical and physiological information. Unlike X-ray or CT, MRI does not use ionizing radiation, making it safer for long-term or repeated use. However, **MRI images are not captured directly**; instead, they are acquired in **K-space**, a complex frequency domain representation.\n",
    "\n",
    "In this section, you will explore how MRI images are **reconstructed from K-space data** using techniques like the **Inverse Fast Fourier Transform (IFFT)**. Understanding the relationship between K-space and the final MRI image is critical for interpreting MRI scans and improving imaging quality.\n",
    "\n",
    "---\n",
    "\n"
   ]
  },
  {
   "cell_type": "markdown",
   "metadata": {
    "id": "Ysays1i3iI7E"
   },
   "source": [
    "Installing Libraries"
   ]
  },
  {
   "cell_type": "code",
   "execution_count": null,
   "metadata": {
    "colab": {
     "base_uri": "https://localhost:8080/"
    },
    "id": "onEAXdxpiKmn",
    "outputId": "a34a4c5e-880b-4b99-cf38-8962c939b3bb"
   },
   "outputs": [],
   "source": [
    "!pip install fastmri"
   ]
  },
  {
   "cell_type": "markdown",
   "metadata": {
    "id": "QuZEleM4SiWe"
   },
   "source": [
    "Import Libraries"
   ]
  },
  {
   "cell_type": "code",
   "execution_count": null,
   "metadata": {
    "id": "xGDy712XSiWf"
   },
   "outputs": [],
   "source": [
    "import h5py\n",
    "import numpy as np\n",
    "from matplotlib import pyplot as plt\n",
    "\n",
    "\n"
   ]
  },
  {
   "cell_type": "markdown",
   "metadata": {
    "id": "rWgfQsWTSiWf"
   },
   "source": [
    "Read the File"
   ]
  },
  {
   "cell_type": "code",
   "execution_count": null,
   "metadata": {
    "id": "1Gc7j1F-SiWg"
   },
   "outputs": [],
   "source": [
    "file_name = '/content/drive/MyDrive/Data/MRI/kspace_only.h5'\n",
    "hf = h5py.File(file_name)\n"
   ]
  },
  {
   "cell_type": "markdown",
   "metadata": {
    "id": "j5tizXr4SiWh"
   },
   "source": [
    "File Information"
   ]
  },
  {
   "cell_type": "code",
   "execution_count": null,
   "metadata": {
    "colab": {
     "base_uri": "https://localhost:8080/"
    },
    "id": "dramYNo8SiWi",
    "outputId": "c6a47781-3e6a-4a3a-96a5-77b99289a854"
   },
   "outputs": [],
   "source": [
    "print('Keys:', list(hf.keys()))\n"
   ]
  },
  {
   "cell_type": "markdown",
   "metadata": {
    "id": "yP0n2b0wSiWm"
   },
   "source": [
    "##### Visualizing MRI Data from Multiple Coils\n",
    "\n",
    "##### What are Coils in MRI?\n",
    "In MRI imaging, **radiofrequency (RF) coils** are used to transmit and receive signals from different regions of the body. Modern MRI machines use **multiple coils** (known as phased-array coils) to improve **signal reception** and provide better spatial coverage. Each coil captures data from a specific region, and combining data from these coils helps in constructing high-quality images.\n",
    "\n",
    "In this part of the assignment, you will visualize slices of K-space data from **different coils** to understand the role each coil plays. The outputs will give you insight into how individual coils contribute to the overall MRI image.\n",
    "\n",
    "---\n",
    "\n",
    "##### Why Use the Log of the Absolute Values?\n",
    "K-space data contains **complex-valued signals** that encode both the frequency and phase information. To **visualize this data**, we need to convert the complex numbers into **magnitudes** using the **absolute value**.\n",
    "\n",
    "However, the range of magnitudes in K-space can vary widely, making it difficult to visualize the data directly. To make the data more interpretable, we apply a **logarithmic transformation** to compress the range of values and make smaller details more visible.  \n",
    "\n",
    "The following function is used to prepare the K-space data for visualization:\n",
    "$$\n",
    "MRI_{image} = \\log (|k\\text{-space}| + 10^{-9})\n",
    "$$\n"
   ]
  },
  {
   "cell_type": "markdown",
   "metadata": {
    "id": "EkxLw8qyT50q"
   },
   "source": [
    "---\n",
    "Write a Python code to visualize a slice of the K-Space of 3 different coils"
   ]
  },
  {
   "cell_type": "code",
   "execution_count": null,
   "metadata": {
    "id": "qrt0g1g9SiWm"
   },
   "outputs": [],
   "source": [
    "#TO DO"
   ]
  },
  {
   "cell_type": "markdown",
   "metadata": {
    "id": "wMLsfBn3SiWn"
   },
   "source": [
    "---\n"
   ]
  },
  {
   "cell_type": "markdown",
   "metadata": {
    "id": "bfv6AqTKSiWn"
   },
   "source": [
    "#### **MRI Image Reconstruction: From K-space to Multi-Coil Combination**\n",
    "\n",
    "In MRI, raw data is collected in **K-space**, a frequency domain representation, rather than directly as an image. To generate the final image, we need to apply an **Inverse Fast Fourier Transform (IFFT)** to convert this data from the frequency domain back into the spatial domain. Additionally, MRI machines often use **multiple radiofrequency (RF) coils**, with each coil capturing signals from different regions of the body. Combining data from multiple coils improves the **Signal-to-Noise Ratio (SNR)** and provides better image quality.\n",
    "\n",
    "The primary goal of this section is to:\n",
    "1. **Perform IFFT with shifts** to ensure the correct spatial arrangement of the transformed data.\n",
    "2. **Extract and visualize the image components**, including magnitude, phase, real, and imaginary parts. Each component carries specific information that contributes to the overall image:\n",
    "   - **Magnitude**: Represents the signal intensity, often used for diagnostic imaging.\n",
    "   - **Phase**: Useful for phase-contrast imaging or advanced MRI techniques.\n",
    "   - **Real and Imaginary Components**: The foundation of complex-valued MRI data, necessary for accurate reconstruction.\n",
    "\n",
    "MRI data from individual coils needs to be combined to create a final image. One of the most effective methods for this is the **Root Sum of Squares (RSS)** method, which sums the squared magnitudes of the signals from all coils and takes the square root. This enhances the overall image by **maximizing SNR** and utilizing information from multiple coils.\n",
    "\n",
    "Finally, the reconstructed image will be the result of combining all coil data using the root-mean square **RSS method**, yielding a clearer, high-SNR image. This process demonstrates the importance of **multi-coil MRI** and how advanced reconstruction techniques are essential for high-quality imaging in clinical practice.\n"
   ]
  },
  {
   "cell_type": "markdown",
   "metadata": {
    "id": "38BXJesCUYrO"
   },
   "source": [
    "--- \n",
    "\n",
    "Write a Python code to re-construct the MRI Image from the K-space of the three coils\n",
    "\n",
    "hint: you may need\n",
    "[numpy.fft.fftshift](https://numpy.org/doc/stable/reference/generated/numpy.fft.fftshift.html) \n",
    "[numpy.fft.ifftshift](https://numpy.org/doc/stable/reference/generated/numpy.fft.ifftshift.html)\n",
    "[numpy.fft.ifft2](https://numpy.org/doc/stable/reference/generated/numpy.fft.ifft2.html)"
   ]
  },
  {
   "cell_type": "code",
   "execution_count": null,
   "metadata": {
    "id": "Y0vf4uQwSiWo"
   },
   "outputs": [],
   "source": [
    "#TO DO"
   ]
  },
  {
   "cell_type": "markdown",
   "metadata": {
    "id": "CLL9iJbdUs2u"
   },
   "source": [
    "Extract the magnitude, phase, real and imaginary components of the MRI image and visualize them"
   ]
  },
  {
   "cell_type": "code",
   "execution_count": null,
   "metadata": {
    "id": "a4xQTOIoSiWo"
   },
   "outputs": [],
   "source": [
    "#TO DO"
   ]
  },
  {
   "cell_type": "markdown",
   "metadata": {
    "id": "RL6GoqzzU114"
   },
   "source": [
    "Combine the signal coming from all the coils and re-construct the MRI Image"
   ]
  },
  {
   "cell_type": "code",
   "execution_count": null,
   "metadata": {
    "id": "m-dyE2C8SiWp"
   },
   "outputs": [],
   "source": [
    "#TO DO"
   ]
  },
  {
   "cell_type": "code",
   "execution_count": null,
   "metadata": {
    "id": "3L3j3au5SiWp"
   },
   "outputs": [],
   "source": []
  },
  {
   "cell_type": "code",
   "execution_count": null,
   "metadata": {
    "id": "6EKKqf69SiWp"
   },
   "outputs": [],
   "source": []
  },
  {
   "cell_type": "markdown",
   "metadata": {
    "id": "BvsHEqU7SiWq"
   },
   "source": [
    "---"
   ]
  },
  {
   "cell_type": "markdown",
   "metadata": {
    "id": "HBf7QJ3JSiWq"
   },
   "source": [
    "#### Accelerated MRI Reconstruction using Random Masking in K-space\n",
    "\n",
    "MRI scans often require long acquisition times to collect the full range of frequency data (K-space). To speed up the scanning process, **accelerated MRI** techniques selectively sample only parts of K-space, reducing the amount of acquired data. This is achieved through **random masking**, which creates a sparse K-space that still captures enough information to reconstruct the image. However, this is a double-edge weapon as this comes with the challenge of maintaining image quality. The Masking can significantly decrease the image quality\n",
    "\n",
    "In this section, we use the **FastMRI library** to apply a random mask to K-space data and reconstruct the MRI Image.\n",
    "\n",
    "\n",
    "By masking K-space, we can significantly reduce the scan time, but the challenge remains in reconstructing high-quality images from incomplete data. This technique illustrates the **trade-offs between scan time and image quality** in modern MRI.\n"
   ]
  },
  {
   "cell_type": "markdown",
   "metadata": {
    "id": "wyRdf1oWVseg"
   },
   "source": [
    "---\n",
    "Apply high-pass and low-pass filters in the k-space, then reconstruct and visualize the MRI image to observe the effects of frequency filtering on image quality and detail.\n"
   ]
  },
  {
   "cell_type": "markdown",
   "metadata": {
    "id": "mA3-Q-pXSiWy"
   },
   "source": [
    "---"
   ]
  },
  {
   "cell_type": "code",
   "execution_count": null,
   "metadata": {
    "id": "UHqP-QvpV6NW"
   },
   "outputs": [],
   "source": [
    "#TO DO"
   ]
  },
  {
   "cell_type": "markdown",
   "metadata": {
    "id": "lVjQZCVqSiWz"
   },
   "source": [
    "### Discussion\n",
    "\n",
    "<br> **Question 1:** What is the purpose of applying an Inverse Fast Fourier Transform (IFFT) in MRI reconstruction? <br><br> <font color=\"#008000\">Answer:</font>\n",
    "\n",
    "<br> **Question 2:** Why do we need to shift the K-space data during the IFFT process? <br><br> <font color=\"#008000\">Answer:</font>\n",
    "\n",
    "<br> **Question 3:** What information is captured in the real and imaginary components of MRI data? <br><br> <font color=\"#008000\">Answer:</font>\n",
    "\n",
    "\n",
    "<br> **Question 4:** What role does the Root Sum of Squares (RSS) method play in multi-coil MRI reconstruction? <br><br> <font color=\"#008000\">Answer:</font>\n",
    "\n",
    "\n",
    "<br> **Question 5:** What is the trade-off when using accelerated MRI with K-space masking? <br><br> <font color=\"#008000\">Answer:</font>\n",
    "\n",
    "<br> **Question 6:** Why is logarithmic scaling applied when visualizing K-space data? <br><br> <font color=\"#008000\">Answer:</font>\n",
    "\n",
    "<br> **Question 7:** What information is carried by the low-frequency and high-frequency components of K-space? <br><br> <font color=\"#008000\">Answer:</font>\n",
    "\n",
    "\n"
   ]
  },
  {
   "cell_type": "markdown",
   "metadata": {
    "id": "75M57lIiSiW0"
   },
   "source": [
    "---"
   ]
  },
  {
   "cell_type": "markdown",
   "metadata": {
    "id": "sQGHGwY4SiW1"
   },
   "source": [
    "### Functional MRI (fMRI):\n",
    "\n",
    "#### What is fMRI?\n",
    "**Functional Magnetic Resonance Imaging (fMRI)** is a non-invasive imaging technique that measures and maps brain activity by detecting changes in blood flow. Unlike conventional structural MRI, which captures anatomical images of the brain, fMRI focuses on **functional processes** by tracking the brain's activity in real-time. The underlying principle of fMRI is based on the **blood-oxygen-level-dependent (BOLD) signal**, which reflects the amount of oxygenated and deoxygenated hemoglobin in the blood.\n",
    "\n",
    "When a brain region becomes more active, it consumes more oxygen. In response, the body sends additional oxygenated blood to these active regions, leading to detectable changes in the magnetic properties of the blood. This allows fMRI to indirectly measure neuronal activity.\n",
    "\n",
    "---\n",
    "\n",
    "#### How Does fMRI Work?\n",
    "fMRI primarily relies on the **BOLD (Blood-Oxygen-Level-Dependent) signal** to detect brain activity. When neurons become active, the local oxygen demand increases, and more oxygenated blood is delivered to the area. The fMRI scanner measures this change in blood oxygenation levels to infer which parts of the brain are involved in a specific task.\n",
    "\n"
   ]
  },
  {
   "cell_type": "code",
   "execution_count": null,
   "metadata": {
    "id": "zm6_kPnLSiW3"
   },
   "outputs": [],
   "source": [
    "from nilearn import datasets\n",
    "from nilearn import image\n",
    "from nilearn import plotting\n",
    "import pylab as plt\n",
    "%matplotlib inline\n",
    "import pandas as pd\n",
    "from pprint import pprint\n",
    "import numpy as np\n",
    "from nilearn import regions\n"
   ]
  },
  {
   "cell_type": "markdown",
   "metadata": {
    "id": "WgGl59ZTX19J"
   },
   "source": []
  },
  {
   "cell_type": "markdown",
   "metadata": {
    "id": "3um8IZxVSiW8"
   },
   "source": [
    "#### Working with fMRI Data: Haxby Dataset\n",
    "\n",
    "In this section, we will load and explore a popular fMRI dataset: the **Haxby Dataset**. This dataset contains both **anatomical MRI scans** and **functional MRI (fMRI) scans**, as well as metadata associated with the experimental conditions. We will use it to demonstrate how to load, inspect, and extract specific runs of fMRI data.\n",
    "\n",
    "The Haxby dataset is widely used in neuroscience research to investigate brain activity in response to visual stimuli, making it an excellent resource for learning how to handle fMRI data. Below, we outline each step of the process.\n",
    "\n",
    "The Haxby dataset divides the fMRI data into multiple runs (sessions). We extract the first run from the data by identifying which volumes belong to run 1 (indicated by chunks == 0 in the metadata).\n",
    "\n"
   ]
  },
  {
   "cell_type": "code",
   "execution_count": null,
   "metadata": {
    "colab": {
     "base_uri": "https://localhost:8080/",
     "height": 395
    },
    "id": "UjlwKpv4SiW9",
    "outputId": "a93856e1-f512-4193-f8cf-fd74e2b66fe6"
   },
   "outputs": [],
   "source": [
    "data = datasets.fetch_haxby(\n",
    "    data_dir=None,\n",
    "    subjects=1,\n",
    "    fetch_stimuli=False,\n",
    "    verbose=1\n",
    ")\n",
    "print(data.keys())\n"
   ]
  },
  {
   "cell_type": "code",
   "execution_count": null,
   "metadata": {
    "colab": {
     "base_uri": "https://localhost:8080/"
    },
    "id": "o4LCY8tDSiW-",
    "outputId": "bfc29ef5-679c-41c1-dd70-367cce6a785f"
   },
   "outputs": [],
   "source": [
    "print(data['description'])\n"
   ]
  },
  {
   "cell_type": "code",
   "execution_count": null,
   "metadata": {
    "colab": {
     "base_uri": "https://localhost:8080/"
    },
    "id": "ZT2RJFlBSiW_",
    "outputId": "e7a97f06-e361-431d-8b1a-6be078e366ed"
   },
   "outputs": [],
   "source": [
    "anat_img = image.load_img(data['anat'])\n",
    "print(\"Shape of Anatomical MRI image: %s\" % (anat_img.shape,))\n",
    "func_img = image.load_img(data['func'][0])\n",
    "print(\"Shape of functional MRI image: %s\" % (func_img.shape,))\n"
   ]
  },
  {
   "cell_type": "code",
   "execution_count": null,
   "metadata": {
    "id": "JVwwlJ3FSiXB"
   },
   "outputs": [],
   "source": []
  },
  {
   "cell_type": "code",
   "execution_count": null,
   "metadata": {
    "colab": {
     "base_uri": "https://localhost:8080/",
     "height": 712
    },
    "id": "rWYJKEvWSiXB",
    "outputId": "08e49c46-b6b2-4c57-b4a5-778c46a47123"
   },
   "outputs": [],
   "source": [
    "import pandas as pd\n",
    "metadata = pd.read_csv(data['session_target'][0], sep=' ')\n",
    "print(\"Shape of metadata dataframe: %s\" % (metadata.shape,), end='\\n\\n')\n",
    "metadata.head(20)"
   ]
  },
  {
   "cell_type": "code",
   "execution_count": null,
   "metadata": {
    "colab": {
     "base_uri": "https://localhost:8080/"
    },
    "id": "rtGPa-IPSiXC",
    "outputId": "2c6eb25a-0c25-437c-faba-a7d36941cf87"
   },
   "outputs": [],
   "source": [
    "nvol_run_1 = np.sum(metadata['chunks'] == 0)\n",
    "print(\"Number of volumes in run 1: %i\" % nvol_run_1)\n"
   ]
  },
  {
   "cell_type": "code",
   "execution_count": null,
   "metadata": {
    "colab": {
     "base_uri": "https://localhost:8080/"
    },
    "id": "oY6yGgJ3SiXD",
    "outputId": "a0bbf14e-6023-429f-86bf-770cf8fb9394"
   },
   "outputs": [],
   "source": [
    "to_index = np.arange(nvol_run_1, dtype=int)\n",
    "func_img_run1 = image.index_img(func_img, to_index)\n",
    "print(\"Shape of func_img_run1: %s\" % (func_img_run1.shape,))\n"
   ]
  },
  {
   "cell_type": "markdown",
   "metadata": {
    "id": "USdonuBjSiXD"
   },
   "source": [
    "---"
   ]
  },
  {
   "cell_type": "markdown",
   "metadata": {
    "id": "hL8FX0iiSiXD"
   },
   "source": [
    "#### Visualizing and Smoothing Functional MRI Data\n",
    "\n",
    "In this section, we load and explore the **functional MRI (fMRI) data**, apply **smoothing** to improve visualization, and project the fMRI data onto the brain surface for better spatial interpretation. These steps are essential in preparing the data for further analysis, ensuring that the visualized brain activity is clear, interpretable, and aligned with anatomical structures.\n",
    "\n",
    "---\n",
    "\n",
    "\n"
   ]
  },
  {
   "cell_type": "markdown",
   "metadata": {
    "id": "zc1fmStPY-vL"
   },
   "source": [
    "Display the anatomy img using [plot_anat](https://nilearn.github.io/stable/modules/generated/nilearn.plotting.plot_anat.html) and [view_img](https://nilearn.github.io/stable/modules/generated/nilearn.plotting.view_img.html)"
   ]
  },
  {
   "cell_type": "code",
   "execution_count": null,
   "metadata": {
    "id": "YorSv2-MSiXE"
   },
   "outputs": [],
   "source": [
    "#TO DO"
   ]
  },
  {
   "cell_type": "code",
   "execution_count": null,
   "metadata": {
    "id": "WEuj6NQOSiXF"
   },
   "outputs": [],
   "source": [
    "#TO DO"
   ]
  },
  {
   "cell_type": "code",
   "execution_count": null,
   "metadata": {
    "id": "MGw2ECu2SiXF"
   },
   "outputs": [],
   "source": []
  },
  {
   "cell_type": "markdown",
   "metadata": {
    "id": "wGhcPmNMY4JD"
   },
   "source": [
    "Calculate the mean of func_img_run1 using [Nilearn](https://nilearn.github.io/dev/modules/generated/nilearn.image.mean_img.html) and display it with [plot_epi](https://nilearn.github.io/stable/modules/generated/nilearn.plotting.plot_epi.html)"
   ]
  },
  {
   "cell_type": "code",
   "execution_count": null,
   "metadata": {
    "id": "pQxucZEFY4-J"
   },
   "outputs": [],
   "source": [
    "#TO DO"
   ]
  },
  {
   "cell_type": "markdown",
   "metadata": {
    "id": "ATxhjvZmZ-Pk"
   },
   "source": [
    "Use [smooth_img](https://nilearn.github.io/stable/modules/generated/nilearn.image.smooth_img.html) to smooth the img and visualize the filtered image"
   ]
  },
  {
   "cell_type": "code",
   "execution_count": null,
   "metadata": {
    "id": "6oCBSvaASiXG"
   },
   "outputs": [],
   "source": [
    "#TO DO"
   ]
  },
  {
   "cell_type": "markdown",
   "metadata": {
    "id": "KiG2tx1PbWTX"
   },
   "source": [
    "Use [view_img](https://nilearn.github.io/stable/modules/generated/nilearn.plotting.view_img.html) to visualize the smoothed and anatomy images"
   ]
  },
  {
   "cell_type": "code",
   "execution_count": null,
   "metadata": {
    "id": "2RlJ-ms4a7Pd"
   },
   "outputs": [],
   "source": [
    "#TO DO"
   ]
  },
  {
   "cell_type": "markdown",
   "metadata": {
    "id": "H9vlN1vObjk9"
   },
   "source": [
    "Apply a signal threshold to view_img"
   ]
  },
  {
   "cell_type": "code",
   "execution_count": null,
   "metadata": {
    "id": "etvKp6bmSiXJ"
   },
   "outputs": [],
   "source": [
    "#TO DO"
   ]
  },
  {
   "cell_type": "markdown",
   "metadata": {
    "id": "6bZUUW7USiXJ"
   },
   "source": [
    "---"
   ]
  },
  {
   "cell_type": "markdown",
   "metadata": {
    "id": "mYYJVxKxSiXJ"
   },
   "source": [
    "#### Brain Connectivity Analysis with the Harvard-Oxford Atlas\n",
    "\n",
    "In this section, we explore the **Harvard-Oxford atlas** to study brain connectivity. We will load and visualize different regions of the brain using **maximum probability and probabilistic atlases**. Additionally, we will extract **region-of-interest (ROI) signals**, compute a **correlation matrix** between these signals, and visualize the **connectivity patterns** as both a matrix and a connectome.\n",
    "\n",
    "---\n",
    "\n"
   ]
  },
  {
   "cell_type": "markdown",
   "metadata": {
    "id": "Hw0FGCykfsXj"
   },
   "source": [
    "# Functional Connectivity Analysis Using ROI Signals\n",
    "\n",
    "This section focuses on extracting region of interest (ROI) signals from functional MRI (fMRI) data and computing the connectivity matrix using correlation analysis. The following steps outline the logic:\n",
    "\n",
    "## 1. Load the Harvard-Oxford Atlas\n",
    "- Fetch the Harvard-Oxford probabilistic atlas using `datasets.fetch_atlas_harvard_oxford`.\n",
    "- Load the atlas into memory as an image using `image.load_img`.\n",
    "\n",
    "## 2. Resample the Atlas\n",
    "- Resample the Harvard-Oxford atlas to match the resolution and dimensions of the functional MRI image (`func_img`) using `image.resample_to_img`.\n",
    "- Use nearest-neighbor interpolation to align the atlas with the target image.\n",
    "\n",
    "## 3. Extract ROI Signals\n",
    "- Use `regions.img_to_signals_labels` to extract average signals from the ROIs defined by the atlas.\n",
    "  - Inputs: Functional image (`func_img`) and resampled atlas (`ho_maxprob_atlas_img_resamp`).\n",
    "  - Outputs: ROI signals (`av_roi_signals`) and their corresponding labels (`roi_labels`).\n",
    "- Print the shape and type of the extracted signals for verification.\n",
    "\n",
    "## 4. Compute the Connectivity Matrix\n",
    "- Use the `ConnectivityMeasure` class from Nilearn to compute the functional connectivity matrix.\n",
    "- Specify the type of connectivity measure (e.g., correlation) and fit the ROI signals.\n",
    "\n",
    "\n",
    "## 5. Visualize the Connectivity Matrix\n",
    "- Compute the center coordinates of each region using `plotting.find_parcellation_cut_coords`.\n",
    "- Visualize the connectivity matrix as a connectome using `plotting.view_connectome`.\n",
    "  - Inputs: The connectivity matrix (`corr_mat`) and ROI coordinates (`coords`).\n",
    "  - Apply an edge threshold (e.g., \"95%\") to highlight the strongest connections.\n",
    "\n",
    "This workflow allows for a clear understanding of the functional relationships between different brain regions, leveraging anatomical parcellation and connectivity measures.\n",
    "---"
   ]
  },
  {
   "cell_type": "markdown",
   "metadata": {
    "id": "wiVrkOhHSiXJ"
   },
   "source": [
    "Loading the Harvard-Oxford Atlas\n",
    "\n",
    "The Harvard-Oxford atlas provides labeled regions of the brain. We load the **maximum probability atlas** using the `fetch_atlas_harvard_oxford()` function and inspect its metadata."
   ]
  },
  {
   "cell_type": "code",
   "execution_count": null,
   "metadata": {
    "id": "DEd8q4yCSiXK"
   },
   "outputs": [],
   "source": [
    "from nilearn.connectome import ConnectivityMeasure\n"
   ]
  },
  {
   "cell_type": "code",
   "execution_count": null,
   "metadata": {
    "colab": {
     "base_uri": "https://localhost:8080/",
     "height": 148
    },
    "id": "Olo1ertTSiXK",
    "outputId": "1081db0d-f412-465d-8e5c-6d1e348d59d9"
   },
   "outputs": [],
   "source": [
    "\n",
    "ho_maxprob_atlas = datasets.fetch_atlas_harvard_oxford('cort-maxprob-thr25-2mm')\n"
   ]
  },
  {
   "cell_type": "code",
   "execution_count": null,
   "metadata": {
    "colab": {
     "base_uri": "https://localhost:8080/"
    },
    "id": "xelARV-GSiXK",
    "outputId": "678d04c1-0816-4efe-99ab-7155cfc404f4"
   },
   "outputs": [],
   "source": [
    "pprint(ho_maxprob_atlas)\n"
   ]
  },
  {
   "cell_type": "code",
   "execution_count": null,
   "metadata": {
    "colab": {
     "base_uri": "https://localhost:8080/"
    },
    "id": "Mowg-A2eSiXL",
    "outputId": "111e64e6-9c07-4267-ab29-bd8a69b487da"
   },
   "outputs": [],
   "source": [
    "ho_maxprob_atlas_img = image.load_img(ho_maxprob_atlas['maps'])\n",
    "print(\"ho_maxprob_atlas_img is a 4D image with shape %s\" % (ho_maxprob_atlas_img.shape,))\n"
   ]
  },
  {
   "cell_type": "markdown",
   "metadata": {
    "id": "UYQ_YrztSiXM"
   },
   "source": [
    "We extract the unique labels from the atlas and count the total number of regions. We also identify the brain region associated with a specific label.\n",
    "\n"
   ]
  },
  {
   "cell_type": "code",
   "execution_count": null,
   "metadata": {
    "colab": {
     "base_uri": "https://localhost:8080/"
    },
    "id": "LAmzFADRSiXM",
    "outputId": "1faf9e44-347b-4d16-a835-a2d4433d9c68"
   },
   "outputs": [],
   "source": [
    "region_int_labels = np.unique(ho_maxprob_atlas_img.get_fdata())\n",
    "n_regions = region_int_labels.size\n",
    "\n",
    "print(\"There are %i different regions in the Harvard-Oxford cortical atlas!\" % n_regions)\n",
    "idx = 2\n",
    "region_with_value2 = ho_maxprob_atlas['labels'][idx]\n",
    "print(\"The region with value 2 is: %s\" % region_with_value2)\n"
   ]
  },
  {
   "cell_type": "markdown",
   "metadata": {
    "id": "W794LC68c4Ar"
   },
   "source": [
    "Use [plot_roi](https://nilearn.github.io/stable/modules/generated/nilearn.plotting.plot_roi.html) to visualize the Atlas"
   ]
  },
  {
   "cell_type": "code",
   "execution_count": null,
   "metadata": {
    "id": "70yrHaHmSiXN"
   },
   "outputs": [],
   "source": [
    "#TO DO"
   ]
  },
  {
   "cell_type": "markdown",
   "metadata": {
    "id": "3t-4EO5hSiXN"
   },
   "source": [
    "Resampling the Atlas to Match Functional Data"
   ]
  },
  {
   "cell_type": "code",
   "execution_count": null,
   "metadata": {
    "colab": {
     "base_uri": "https://localhost:8080/"
    },
    "id": "bMHCTEsASiXO",
    "outputId": "37ec6c06-6979-4615-ae7a-bc13058a5111"
   },
   "outputs": [],
   "source": [
    "print(ho_maxprob_atlas_img.shape,func_img.shape)"
   ]
  },
  {
   "cell_type": "markdown",
   "metadata": {
    "id": "h1ukCYSjdMrG"
   },
   "source": [
    "Use [resample_to_img](https://nilearn.github.io/stable/modules/generated/nilearn.image.resample_to_img.html) to do the resampling"
   ]
  },
  {
   "cell_type": "code",
   "execution_count": null,
   "metadata": {
    "id": "Mu5W01RoSiXO"
   },
   "outputs": [],
   "source": [
    "#TO DO"
   ]
  },
  {
   "cell_type": "code",
   "execution_count": null,
   "metadata": {
    "colab": {
     "base_uri": "https://localhost:8080/"
    },
    "id": "VhvnOCSmSiXO",
    "outputId": "0009135d-a462-4b87-f893-0d1531d5b13f"
   },
   "outputs": [],
   "source": [
    "print(ho_maxprob_atlas_img_resamp.shape,func_img.shape)"
   ]
  },
  {
   "cell_type": "markdown",
   "metadata": {
    "id": "RoZdRDfgSiXP"
   },
   "source": [
    "We extract average signals from the regions defined by the atlas using [img_to_signals_labels](https://nilearn.github.io/stable/modules/generated/nilearn.regions.img_to_signals_labels.html)"
   ]
  },
  {
   "cell_type": "code",
   "execution_count": null,
   "metadata": {
    "id": "vx_hvfyhSiXQ"
   },
   "outputs": [],
   "source": [
    "#TO DO"
   ]
  },
  {
   "cell_type": "markdown",
   "metadata": {
    "id": "eXZLZlRoeQ3S"
   },
   "source": [
    "Initialize the correlation [ConnectivityMeasure](https://nilearn.github.io/stable/modules/generated/nilearn.connectome.ConnectivityMeasure.html)"
   ]
  },
  {
   "cell_type": "code",
   "execution_count": null,
   "metadata": {
    "id": "DFC9HxA0SiXQ"
   },
   "outputs": [],
   "source": [
    "cm = ConnectivityMeasure(kind='correlation')\n"
   ]
  },
  {
   "cell_type": "markdown",
   "metadata": {
    "id": "rA0zY7lheZfb"
   },
   "source": [
    "Calculate the correlation between average roi signals"
   ]
  },
  {
   "cell_type": "code",
   "execution_count": null,
   "metadata": {
    "id": "TBQr2KdHSiXR"
   },
   "outputs": [],
   "source": [
    "#TO DO"
   ]
  },
  {
   "cell_type": "code",
   "execution_count": null,
   "metadata": {
    "colab": {
     "base_uri": "https://localhost:8080/",
     "height": 1000
    },
    "id": "Z4JVIKFESiXS",
    "outputId": "14646900-a08b-4096-ea29-6e5d0fee9ac6"
   },
   "outputs": [],
   "source": [
    "\n",
    "fig, ax = plt.subplots(figsize=(15, 15))\n",
    "display = plotting.plot_matrix(\n",
    "    corr_mat,\n",
    "    labels=ho_maxprob_atlas['labels'][1:],\n",
    "    reorder='average',\n",
    "    figure=fig\n",
    ")\n",
    "\n",
    "# Increase the labels a bit\n",
    "display.axes.tick_params(axis='both', which='major', labelsize=14)\n"
   ]
  },
  {
   "cell_type": "markdown",
   "metadata": {
    "id": "GmKKP0STeuQw"
   },
   "source": [
    "Use [find_parcellation_cut_coords](https://nilearn.github.io/dev/modules/generated/nilearn.plotting.find_parcellation_cut_coords.html) to get the center of mass of the atlas regions and visualize the connectivity using  [view_connectome](https://nilearn.github.io/stable/modules/generated/nilearn.plotting.view_connectome.html)"
   ]
  },
  {
   "cell_type": "code",
   "execution_count": null,
   "metadata": {
    "id": "9Fw8CeEISiXS"
   },
   "outputs": [],
   "source": [
    "#TO DO"
   ]
  },
  {
   "cell_type": "markdown",
   "metadata": {
    "id": "ETiokDGHSiXT"
   },
   "source": [
    "---"
   ]
  }
 ],
 "metadata": {
  "colab": {
   "provenance": []
  },
  "kernelspec": {
   "display_name": "Python 3",
   "language": "python",
   "name": "python3"
  },
  "language_info": {
   "codemirror_mode": {
    "name": "ipython",
    "version": 3
   },
   "file_extension": ".py",
   "mimetype": "text/x-python",
   "name": "python",
   "nbconvert_exporter": "python",
   "pygments_lexer": "ipython3",
   "version": "3.12.8"
  }
 },
 "nbformat": 4,
 "nbformat_minor": 0
}
